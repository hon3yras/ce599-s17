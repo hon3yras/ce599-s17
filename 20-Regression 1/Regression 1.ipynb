{
 "cells": [
  {
   "cell_type": "markdown",
   "metadata": {
    "collapsed": true
   },
   "source": [
    "# Regression Modeling, Part 1\n",
    "\n",
    "This lesson is adapted from a few sources: \n",
    "\n",
    "- The statsmodels tutorials: http://statsmodels.sourceforge.net/\n",
    "- General Assembly's Data Science Course: https://github.com/justmarkham/DAT4 \n",
    "- Urban Informatics and Visualization Course: https://github.com/waddell/urban-informatics-and-visualization\n",
    "\n",
    "\n",
    "### Motivation\n",
    "\n",
    "Why are we learning linear regression? \n",
    "\n",
    "It gives us a way to more formally understand the relationships between variables.  There are a few things in particular we may want to do: \n",
    "\n",
    "- inference: Identify whether the correlations are statistically significant. Of particular interest is the ability to control for confounding factors. \n",
    "- prediction: Change variables and predict the outcomes. \n",
    "\n",
    "\n",
    "### Structure and Assumptions\n",
    "\n",
    "The statistical model is assumed to be $Y = X\\beta + \\epsilon$, where $\\epsilon\\sim N\\left(0,\\sigma^{2}\\right)$\n",
    "\n",
    "We focus here on the simple Ordinary Least Squares (OLS) model that is the most widely used, but makes strong assumptions about the errors being indepentently and identically distributed (i.i.d.).  We won't get much into the theory/mathematics of these models.  There is plenty written about that, and it should have been covered in your stats classes.  Here, we will focus more on how to specify a good model.  \n",
    "\n",
    "For now, there are a few things to keep in mind: \n",
    "\n",
    "1. The response variable should be continuous. \n",
    "2. The terms should be linear, but they can include non-linear transformations. \n",
    "3. The residuals (or errors) should be random. \n",
    "\n",
    "\n",
    "### Libraries\n",
    "\n",
    "Will be using [Statsmodels](http://statsmodels.sourceforge.net/).  Start with: \n",
    "\n",
    "    conda install statsmodels\n",
    "    \n",
    "    "
   ]
  },
  {
   "cell_type": "markdown",
   "metadata": {},
   "source": [
    "### Today's objective\n",
    "\n",
    "Today, we will be looking at wage and salary data to understand the factors that increase or decrease wages.  In particular, we are interested in knowing the effect of getting a degree in civil engineering!  \n",
    "\n",
    "We'll be using the PUMS data.  The PUMS (Public-Use Microdata Sample) comes from the Census Bureau's American Community Survey (ACS).  Each record represents an individual person, rather than being aggregate tabulations as most Census tables are.  To protect the privacy of respondents, home locations are only known at very aggregate geographies (known as PUMAs).  You can find the data here: \n",
    "\n",
    "https://www.census.gov/programs-surveys/acs/data/pums.html\n",
    "\n",
    "I've downloaded the relevant table and documentation for you already. "
   ]
  },
  {
   "cell_type": "code",
   "execution_count": 33,
   "metadata": {
    "collapsed": true
   },
   "outputs": [],
   "source": [
    "import pandas as pd\n",
    "import seaborn as sns\n",
    "import numpy as np\n",
    "import statsmodels.formula.api as smf\n",
    "\n",
    "# this allows plots to appear directly in the notebook\n",
    "%matplotlib inline"
   ]
  },
  {
   "cell_type": "code",
   "execution_count": 27,
   "metadata": {
    "collapsed": false
   },
   "outputs": [
    {
     "data": {
      "text/html": [
       "<div>\n",
       "<table border=\"1\" class=\"dataframe\">\n",
       "  <thead>\n",
       "    <tr style=\"text-align: right;\">\n",
       "      <th></th>\n",
       "      <th>RT</th>\n",
       "      <th>SERIALNO</th>\n",
       "      <th>SPORDER</th>\n",
       "      <th>PUMA</th>\n",
       "      <th>ST</th>\n",
       "      <th>ADJINC</th>\n",
       "      <th>PWGTP</th>\n",
       "      <th>AGEP</th>\n",
       "      <th>CIT</th>\n",
       "      <th>CITWP</th>\n",
       "      <th>...</th>\n",
       "      <th>pwgtp71</th>\n",
       "      <th>pwgtp72</th>\n",
       "      <th>pwgtp73</th>\n",
       "      <th>pwgtp74</th>\n",
       "      <th>pwgtp75</th>\n",
       "      <th>pwgtp76</th>\n",
       "      <th>pwgtp77</th>\n",
       "      <th>pwgtp78</th>\n",
       "      <th>pwgtp79</th>\n",
       "      <th>pwgtp80</th>\n",
       "    </tr>\n",
       "  </thead>\n",
       "  <tbody>\n",
       "    <tr>\n",
       "      <th>0</th>\n",
       "      <td>P</td>\n",
       "      <td>4</td>\n",
       "      <td>1</td>\n",
       "      <td>100</td>\n",
       "      <td>21</td>\n",
       "      <td>1001264</td>\n",
       "      <td>112</td>\n",
       "      <td>56</td>\n",
       "      <td>1</td>\n",
       "      <td>NaN</td>\n",
       "      <td>...</td>\n",
       "      <td>84</td>\n",
       "      <td>112</td>\n",
       "      <td>43</td>\n",
       "      <td>155</td>\n",
       "      <td>158</td>\n",
       "      <td>165</td>\n",
       "      <td>161</td>\n",
       "      <td>23</td>\n",
       "      <td>118</td>\n",
       "      <td>88</td>\n",
       "    </tr>\n",
       "    <tr>\n",
       "      <th>1</th>\n",
       "      <td>P</td>\n",
       "      <td>4</td>\n",
       "      <td>2</td>\n",
       "      <td>100</td>\n",
       "      <td>21</td>\n",
       "      <td>1001264</td>\n",
       "      <td>108</td>\n",
       "      <td>57</td>\n",
       "      <td>1</td>\n",
       "      <td>NaN</td>\n",
       "      <td>...</td>\n",
       "      <td>92</td>\n",
       "      <td>86</td>\n",
       "      <td>37</td>\n",
       "      <td>163</td>\n",
       "      <td>156</td>\n",
       "      <td>171</td>\n",
       "      <td>170</td>\n",
       "      <td>22</td>\n",
       "      <td>124</td>\n",
       "      <td>83</td>\n",
       "    </tr>\n",
       "    <tr>\n",
       "      <th>2</th>\n",
       "      <td>P</td>\n",
       "      <td>39</td>\n",
       "      <td>1</td>\n",
       "      <td>1706</td>\n",
       "      <td>21</td>\n",
       "      <td>1001264</td>\n",
       "      <td>58</td>\n",
       "      <td>66</td>\n",
       "      <td>1</td>\n",
       "      <td>NaN</td>\n",
       "      <td>...</td>\n",
       "      <td>57</td>\n",
       "      <td>94</td>\n",
       "      <td>16</td>\n",
       "      <td>17</td>\n",
       "      <td>17</td>\n",
       "      <td>17</td>\n",
       "      <td>93</td>\n",
       "      <td>58</td>\n",
       "      <td>60</td>\n",
       "      <td>61</td>\n",
       "    </tr>\n",
       "    <tr>\n",
       "      <th>3</th>\n",
       "      <td>P</td>\n",
       "      <td>39</td>\n",
       "      <td>2</td>\n",
       "      <td>1706</td>\n",
       "      <td>21</td>\n",
       "      <td>1001264</td>\n",
       "      <td>85</td>\n",
       "      <td>28</td>\n",
       "      <td>1</td>\n",
       "      <td>NaN</td>\n",
       "      <td>...</td>\n",
       "      <td>100</td>\n",
       "      <td>134</td>\n",
       "      <td>23</td>\n",
       "      <td>24</td>\n",
       "      <td>23</td>\n",
       "      <td>22</td>\n",
       "      <td>141</td>\n",
       "      <td>80</td>\n",
       "      <td>92</td>\n",
       "      <td>79</td>\n",
       "    </tr>\n",
       "    <tr>\n",
       "      <th>4</th>\n",
       "      <td>P</td>\n",
       "      <td>39</td>\n",
       "      <td>3</td>\n",
       "      <td>1706</td>\n",
       "      <td>21</td>\n",
       "      <td>1001264</td>\n",
       "      <td>78</td>\n",
       "      <td>10</td>\n",
       "      <td>1</td>\n",
       "      <td>NaN</td>\n",
       "      <td>...</td>\n",
       "      <td>72</td>\n",
       "      <td>118</td>\n",
       "      <td>24</td>\n",
       "      <td>23</td>\n",
       "      <td>27</td>\n",
       "      <td>20</td>\n",
       "      <td>109</td>\n",
       "      <td>100</td>\n",
       "      <td>77</td>\n",
       "      <td>77</td>\n",
       "    </tr>\n",
       "  </tbody>\n",
       "</table>\n",
       "<p>5 rows × 284 columns</p>\n",
       "</div>"
      ],
      "text/plain": [
       "  RT  SERIALNO  SPORDER  PUMA  ST   ADJINC  PWGTP  AGEP  CIT  CITWP   ...     \\\n",
       "0  P         4        1   100  21  1001264    112    56    1    NaN   ...      \n",
       "1  P         4        2   100  21  1001264    108    57    1    NaN   ...      \n",
       "2  P        39        1  1706  21  1001264     58    66    1    NaN   ...      \n",
       "3  P        39        2  1706  21  1001264     85    28    1    NaN   ...      \n",
       "4  P        39        3  1706  21  1001264     78    10    1    NaN   ...      \n",
       "\n",
       "   pwgtp71  pwgtp72  pwgtp73  pwgtp74  pwgtp75  pwgtp76  pwgtp77  pwgtp78  \\\n",
       "0       84      112       43      155      158      165      161       23   \n",
       "1       92       86       37      163      156      171      170       22   \n",
       "2       57       94       16       17       17       17       93       58   \n",
       "3      100      134       23       24       23       22      141       80   \n",
       "4       72      118       24       23       27       20      109      100   \n",
       "\n",
       "   pwgtp79  pwgtp80  \n",
       "0      118       88  \n",
       "1      124       83  \n",
       "2       60       61  \n",
       "3       92       79  \n",
       "4       77       77  \n",
       "\n",
       "[5 rows x 284 columns]"
      ]
     },
     "execution_count": 27,
     "metadata": {},
     "output_type": "execute_result"
    }
   ],
   "source": [
    "# get the data\n",
    "df = pd.read_csv('data/ss15pky.csv')\n",
    "df.head()"
   ]
  },
  {
   "cell_type": "code",
   "execution_count": 28,
   "metadata": {
    "collapsed": false
   },
   "outputs": [
    {
     "data": {
      "text/plain": [
       "21558"
      ]
     },
     "execution_count": 28,
     "metadata": {},
     "output_type": "execute_result"
    }
   ],
   "source": [
    "# keep only the people who have worked within the last 12 months\n",
    "'''\n",
    "WKL 1\n",
    "When last worked\n",
    "b .N/A (less than 16 years old)\n",
    "1 .Within the past 12 months\n",
    "2 .1-5 years ago\n",
    "3 .Over 5 years ago or never worked\n",
    "'''\n",
    "\n",
    "df = df[df['WKL']==1]\n",
    "len(df)"
   ]
  },
  {
   "cell_type": "markdown",
   "metadata": {},
   "source": [
    "### Look at the data\n",
    "\n",
    "It is often a good idea to look at the data we want to model, and see how it relates to some variables we expect to be important.  We can do this using seaborn, which we learned about a few weeks ago.  "
   ]
  },
  {
   "cell_type": "code",
   "execution_count": 29,
   "metadata": {
    "collapsed": false
   },
   "outputs": [
    {
     "name": "stderr",
     "output_type": "stream",
     "text": [
      "C:\\Users\\shyamalroy\\Anaconda3\\lib\\site-packages\\statsmodels\\nonparametric\\kdetools.py:20: VisibleDeprecationWarning: using a non-integer number instead of an integer will result in an error in the future\n",
      "  m = len(X)\n"
     ]
    },
    {
     "data": {
      "text/plain": [
       "<matplotlib.axes._subplots.AxesSubplot at 0x1d9a7e06358>"
      ]
     },
     "execution_count": 29,
     "metadata": {},
     "output_type": "execute_result"
    },
    {
     "data": {
      "image/png": "[encoded data removed]",
      "text/plain": [
       "<matplotlib.figure.Figure at 0x1d9a7e06c18>"
      ]
     },
     "metadata": {},
     "output_type": "display_data"
    }
   ],
   "source": [
    "'''\n",
    "WAGP 6\n",
    "Wages or salary income past 12 months\n",
    "bbbbbb .N/A (less than 15 years old)\n",
    "000000 .None\n",
    "000001..999999 .$1 to 999999 (Rounded and top-coded)\n",
    "'''\n",
    "\n",
    "sns.distplot(df['WAGP'])"
   ]
  },
  {
   "cell_type": "code",
   "execution_count": 30,
   "metadata": {
    "collapsed": false
   },
   "outputs": [
    {
     "data": {
      "text/plain": [
       "<seaborn.axisgrid.JointGrid at 0x1d9a80717f0>"
      ]
     },
     "execution_count": 30,
     "metadata": {},
     "output_type": "execute_result"
    },
    {
     "data": {
      "image/png": "[encoded data removed]",
      "text/plain": [
       "<matplotlib.figure.Figure at 0x1d9a8071748>"
      ]
     },
     "metadata": {},
     "output_type": "display_data"
    }
   ],
   "source": [
    "# we may think that wages relate to hours worked, so let's look at that relationship\n",
    "'''\n",
    "WKHP 2\n",
    "Usual hours worked per week past 12 months\n",
    "bb .N/A (less than 16 years old/did not work during the past 12\n",
    ".months)\n",
    "01..98 .1 to 98 usual hours\n",
    "99 .99 or more usual hours\n",
    "'''\n",
    "\n",
    "sns.jointplot(x=\"WKHP\", y=\"WAGP\", data=df, size=8)"
   ]
  },
  {
   "cell_type": "markdown",
   "metadata": {},
   "source": [
    "Notice how the data are lumpy.  It looks like people round when they report their values. "
   ]
  },
  {
   "cell_type": "code",
   "execution_count": 31,
   "metadata": {
    "collapsed": false
   },
   "outputs": [
    {
     "data": {
      "text/plain": [
       "<matplotlib.axes._subplots.AxesSubplot at 0x1d9b60be3c8>"
      ]
     },
     "execution_count": 31,
     "metadata": {},
     "output_type": "execute_result"
    },
    {
     "data": {
      "image/png": "[encoded data removed]",
      "text/plain": [
       "<matplotlib.figure.Figure at 0x1d9b60da588>"
      ]
     },
     "metadata": {},
     "output_type": "display_data"
    }
   ],
   "source": [
    "# we can also look at a regression plot, like we did before\n",
    "sns.regplot(x=\"WKHP\", y=\"WAGP\", data=df)"
   ]
  },
  {
   "cell_type": "markdown",
   "metadata": {},
   "source": [
    "### Estimating a model\n",
    "\n",
    "OK, that's fine, we can do plots, but we want some actual numbers.  For this, we want to estimate what the model coefficients are. "
   ]
  },
  {
   "cell_type": "code",
   "execution_count": 34,
   "metadata": {
    "collapsed": false
   },
   "outputs": [
    {
     "ename": "ImportError",
     "evalue": "cannot import name 'ValueWarning'",
     "output_type": "error",
     "traceback": [
      "\u001b[0;31m---------------------------------------------------------------------------\u001b[0m",
      "\u001b[0;31mImportError\u001b[0m                               Traceback (most recent call last)",
      "\u001b[0;32m<ipython-input-34-6741ad3c19ef>\u001b[0m in \u001b[0;36m<module>\u001b[0;34m()\u001b[0m\n\u001b[1;32m      3\u001b[0m \u001b[0mmod\u001b[0m \u001b[1;33m=\u001b[0m \u001b[0msmf\u001b[0m\u001b[1;33m.\u001b[0m\u001b[0mols\u001b[0m\u001b[1;33m(\u001b[0m\u001b[0mformula\u001b[0m\u001b[1;33m=\u001b[0m\u001b[1;34m'WAGP ~ WKHP'\u001b[0m\u001b[1;33m,\u001b[0m \u001b[0mdata\u001b[0m\u001b[1;33m=\u001b[0m\u001b[0mdf\u001b[0m\u001b[1;33m)\u001b[0m\u001b[1;33m\u001b[0m\u001b[0m\n\u001b[1;32m      4\u001b[0m \u001b[0mres\u001b[0m \u001b[1;33m=\u001b[0m \u001b[0mmod\u001b[0m\u001b[1;33m.\u001b[0m\u001b[0mfit\u001b[0m\u001b[1;33m(\u001b[0m\u001b[1;33m)\u001b[0m\u001b[1;33m\u001b[0m\u001b[0m\n\u001b[0;32m----> 5\u001b[0;31m \u001b[0mres\u001b[0m\u001b[1;33m.\u001b[0m\u001b[0msummary\u001b[0m\u001b[1;33m(\u001b[0m\u001b[1;33m)\u001b[0m\u001b[1;33m\u001b[0m\u001b[0m\n\u001b[0m",
      "\u001b[0;32mC:\\Users\\shyamalroy\\Anaconda3\\lib\\site-packages\\statsmodels\\regression\\linear_model.py\u001b[0m in \u001b[0;36msummary\u001b[0;34m(self, yname, xname, title, alpha)\u001b[0m\n\u001b[1;32m   1915\u001b[0m \u001b[1;33m\u001b[0m\u001b[0m\n\u001b[1;32m   1916\u001b[0m         \u001b[1;33m-\u001b[0m \u001b[1;34m'hac-groupsum'\u001b[0m \u001b[0mDriscoll\u001b[0m \u001b[1;32mand\u001b[0m \u001b[0mKraay\u001b[0m\u001b[1;33m,\u001b[0m \u001b[0mheteroscedasticity\u001b[0m \u001b[1;32mand\u001b[0m\u001b[1;33m\u001b[0m\u001b[0m\n\u001b[0;32m-> 1917\u001b[0;31m             \u001b[0mautocorrelation\u001b[0m \u001b[0mrobust\u001b[0m \u001b[0mstandard\u001b[0m \u001b[0merrors\u001b[0m \u001b[1;32min\u001b[0m \u001b[0mpanel\u001b[0m \u001b[0mdata\u001b[0m\u001b[1;33m\u001b[0m\u001b[0m\n\u001b[0m\u001b[1;32m   1918\u001b[0m             \u001b[0mkeywords\u001b[0m\u001b[1;33m\u001b[0m\u001b[0m\n\u001b[1;32m   1919\u001b[0m \u001b[1;33m\u001b[0m\u001b[0m\n",
      "\u001b[0;32mC:\\Users\\shyamalroy\\Anaconda3\\lib\\site-packages\\statsmodels\\stats\\stattools.py\u001b[0m in \u001b[0;36m<module>\u001b[0;34m()\u001b[0m\n\u001b[1;32m      9\u001b[0m \u001b[1;32mfrom\u001b[0m \u001b[0mscipy\u001b[0m \u001b[1;32mimport\u001b[0m \u001b[0mstats\u001b[0m\u001b[1;33m\u001b[0m\u001b[0m\n\u001b[1;32m     10\u001b[0m \u001b[1;32mimport\u001b[0m \u001b[0mnumpy\u001b[0m \u001b[1;32mas\u001b[0m \u001b[0mnp\u001b[0m\u001b[1;33m\u001b[0m\u001b[0m\n\u001b[0;32m---> 11\u001b[0;31m \u001b[1;32mfrom\u001b[0m \u001b[0mstatsmodels\u001b[0m\u001b[1;33m.\u001b[0m\u001b[0mtools\u001b[0m\u001b[1;33m.\u001b[0m\u001b[0msm_exceptions\u001b[0m \u001b[1;32mimport\u001b[0m \u001b[0mValueWarning\u001b[0m\u001b[1;33m\u001b[0m\u001b[0m\n\u001b[0m\u001b[1;32m     12\u001b[0m \u001b[1;33m\u001b[0m\u001b[0m\n\u001b[1;32m     13\u001b[0m \u001b[1;33m\u001b[0m\u001b[0m\n",
      "\u001b[0;31mImportError\u001b[0m: cannot import name 'ValueWarning'"
     ]
    }
   ],
   "source": [
    "# This is a basic model estimation in statsmodels\n",
    "# the dependent variable is on the left side of the ~\n",
    "mod = smf.ols(formula='WAGP ~ WKHP', data=df)\n",
    "res = mod.fit()\n",
    "res.summary()"
   ]
  },
  {
   "cell_type": "markdown",
   "metadata": {},
   "source": [
    "Notice a few things: \n",
    "\n",
    "1. Goodness of fit measures\n",
    "2. Model coefficients and t-statistics\n",
    "3. The model and results objects"
   ]
  },
  {
   "cell_type": "code",
   "execution_count": null,
   "metadata": {
    "collapsed": false
   },
   "outputs": [],
   "source": [
    "# That's fine, but we may try some more things.  Perhaps age matters. \n",
    "# More experience -> higher wages? \n",
    "\n",
    "mod = smf.ols(formula='WAGP ~ WKHP + AGEP', data=df)\n",
    "res = mod.fit()\n",
    "print(res.summary())"
   ]
  },
  {
   "cell_type": "markdown",
   "metadata": {},
   "source": [
    "### Categorical variables\n",
    "\n",
    "We may also want to include categorical variables.  We can include them by calculating a 'dummy' variable, which is 1 if the value is in a category, and zero otherwise.  "
   ]
  },
  {
   "cell_type": "code",
   "execution_count": null,
   "metadata": {
    "collapsed": false
   },
   "outputs": [],
   "source": [
    "'''\n",
    "SCHL 2\n",
    "Educational attainment\n",
    "bb .N/A (less than 3 years old)\n",
    "01 .No schooling completed\n",
    "02 .Nursery school, preschool 03 .Kindergarten\n",
    "04 .Grade 1\n",
    "05 .Grade 2\n",
    "06 .Grade 3\n",
    "07 .Grade 4\n",
    "08 .Grade 5\n",
    "09 .Grade 6\n",
    "10 .Grade 7\n",
    "11 .Grade 8\n",
    "12 .Grade 9\n",
    "13 .Grade 10\n",
    "14 .Grade 11 15 .12th grade - no diploma\n",
    "16 .Regular high school diploma\n",
    "17 .GED or alternative credential\n",
    "18 .Some college, but less than 1 year\n",
    "19 .1 or more years of college credit, no degree\n",
    "20 .Associate's degree\n",
    "21 .Bachelor's degree\n",
    "22 .Master's degree\n",
    "23 .Professional degree beyond a bachelor's degree\n",
    "24 .Doctorate degree\n",
    "'''\n",
    "\n",
    "# Is someone a college grad\n",
    "df['college_grad'] = df['SCHL'].apply(lambda x : x>=20)"
   ]
  },
  {
   "cell_type": "code",
   "execution_count": null,
   "metadata": {
    "collapsed": false
   },
   "outputs": [],
   "source": [
    "# note that I can wrap long strings with a \\ character\n",
    "mod = smf.ols(formula=\"WAGP \\\n",
    "                       ~ WKHP \\\n",
    "                       + AGEP \\\n",
    "                       + college_grad\", \n",
    "              data=df)\n",
    "res = mod.fit()\n",
    "print(res.summary())"
   ]
  },
  {
   "cell_type": "markdown",
   "metadata": {},
   "source": [
    "Looks like a college degree is worth $23,000 per year...\n",
    "\n",
    "What happens if we include both college and non-college in the same model? "
   ]
  },
  {
   "cell_type": "code",
   "execution_count": null,
   "metadata": {
    "collapsed": false
   },
   "outputs": [],
   "source": [
    "# not a college grad\n",
    "df['not_college_grad'] = df['SCHL'].apply(lambda x : x<20)\n",
    "\n",
    "mod = smf.ols(formula=\"WAGP \\\n",
    "                       ~ WKHP \\\n",
    "                       + AGEP \\\n",
    "                       + college_grad \\\n",
    "                       + not_college_grad\", \n",
    "              data=df)\n",
    "res = mod.fit()\n",
    "print(res.summary())"
   ]
  },
  {
   "cell_type": "markdown",
   "metadata": {},
   "source": [
    "We get a warning, and very different results for that term.  This is an over-specified model, and the method cannot estimate the correct coefficients.  To avoid this, we always need to make sure that categorical variables leave one out.  This one that gets left out is known as the reference variable. "
   ]
  },
  {
   "cell_type": "code",
   "execution_count": null,
   "metadata": {
    "collapsed": false
   },
   "outputs": [],
   "source": [
    "# We can do all categories, minus one, for a variable by including it in a C() command\n",
    "\n",
    "mod = smf.ols(formula=\"WAGP \\\n",
    "                       ~ WKHP \\\n",
    "                       + AGEP \\\n",
    "                       + C(SCHL)\", \n",
    "              data=df)\n",
    "res = mod.fit()\n",
    "print(res.summary())"
   ]
  },
  {
   "cell_type": "code",
   "execution_count": null,
   "metadata": {
    "collapsed": false
   },
   "outputs": [],
   "source": [
    "# many of these are not significant, so let's drop some\n",
    "def recode_school(schl): \n",
    "    if schl<=15: \n",
    "        return '15-No HS diploma'\n",
    "    elif schl==16 or schl==17: \n",
    "        return '16-HS or GED'\n",
    "    elif schl==18 or schl==19: \n",
    "        return '18-Some college'\n",
    "    elif schl==20: \n",
    "        return '20-Associates degree'\n",
    "    elif schl==21: \n",
    "        return '21-Bachelors degree'\n",
    "    elif schl==22: \n",
    "        return '22-Masters degree'\n",
    "    elif schl==23: \n",
    "        return '23-Prof grad degree'\n",
    "    elif schl==24: \n",
    "        return '24-Doctorate degree'\n",
    "    else: \n",
    "        return str(schl)\n",
    "\n",
    "df['SCHL2'] = df['SCHL'].apply(recode_school)\n",
    "df['SCHL2'].value_counts()"
   ]
  },
  {
   "cell_type": "code",
   "execution_count": null,
   "metadata": {
    "collapsed": false
   },
   "outputs": [],
   "source": [
    "# We can do all categories, minus one, for a variable by including it in a C() command\n",
    "\n",
    "mod = smf.ols(formula=\"WAGP \\\n",
    "                       ~ WKHP \\\n",
    "                       + AGEP \\\n",
    "                       + C(SCHL2)\", \n",
    "              data=df)\n",
    "res = mod.fit()\n",
    "print(res.summary())"
   ]
  },
  {
   "cell_type": "code",
   "execution_count": null,
   "metadata": {
    "collapsed": false
   },
   "outputs": [],
   "source": [
    "df['PUMA'].head()"
   ]
  },
  {
   "cell_type": "code",
   "execution_count": null,
   "metadata": {
    "collapsed": false
   },
   "outputs": [],
   "source": [
    "# add sex \n",
    "'''\n",
    "SEX 1\n",
    "Sex\n",
    "1 .Male\n",
    "2 .Female\n",
    "'''\n",
    "\n",
    "mod = smf.ols(formula=\"WAGP \\\n",
    "                       ~ WKHP \\\n",
    "                       + AGEP \\\n",
    "                       + C(SCHL2) \\\n",
    "                       + C(SEX)\", \n",
    "              data=df)\n",
    "res = mod.fit()\n",
    "print(res.summary())"
   ]
  },
  {
   "cell_type": "markdown",
   "metadata": {},
   "source": [
    "### Confounding factors\n",
    "\n",
    "It looks like there is a $11,000 penalty for being a woman.  Why is that?  \n",
    "\n",
    "First, we want to make sure that we are measuring the effect of sex, and not the effect of something else that sex is correlated with.  For example, maybe we suspect that women earn less because they tend to work fewer hours or are younger.  Let's start by looking at the data categorically..."
   ]
  },
  {
   "cell_type": "code",
   "execution_count": null,
   "metadata": {
    "collapsed": false
   },
   "outputs": [],
   "source": [
    "# look at the average values\n",
    "df[['SEX', 'WAGP', 'WKHP', 'AGEP']].groupby('SEX').mean()"
   ]
  },
  {
   "cell_type": "markdown",
   "metadata": {},
   "source": [
    "Yes, this is true for hours worked at least, but it is not the whole story.  The total wage gap is $15,000.  That is made up of several components. \n",
    "\n",
    "Sometimes it is useful to look at pair-plots to see the relationships. "
   ]
  },
  {
   "cell_type": "code",
   "execution_count": null,
   "metadata": {
    "collapsed": false
   },
   "outputs": [],
   "source": [
    "# for a select set of variables\n",
    "sns.pairplot(df[['SEX', 'WAGP', 'WKHP', 'AGEP']])"
   ]
  },
  {
   "cell_type": "code",
   "execution_count": null,
   "metadata": {
    "collapsed": false
   },
   "outputs": [],
   "source": [
    "# if we were to leave out the hours worked, we would get a different coefficient on sex\n",
    "\n",
    "mod = smf.ols(formula=\"WAGP \\\n",
    "                       ~ AGEP \\\n",
    "                       + C(SCHL2) \\\n",
    "                       + C(SEX)\", \n",
    "              data=df)\n",
    "res = mod.fit()\n",
    "print(res.summary())"
   ]
  },
  {
   "cell_type": "markdown",
   "metadata": {},
   "source": [
    "For this reason, regression provides an important tool to test the net effects of different factors.  If we wanted, we could also interact sex with the type of degree.  "
   ]
  },
  {
   "cell_type": "code",
   "execution_count": null,
   "metadata": {
    "collapsed": false
   },
   "outputs": [],
   "source": [
    "# we can also interact terms\n",
    "\n",
    "df['AGE_WOMEN'] = df['AGEP'] * (df['SEX'] - 1)\n",
    "df['AGE_MEN']   = df['AGEP'] * (2-df['SEX'])\n",
    "\n",
    "mod = smf.ols(formula=\"WAGP \\\n",
    "                       ~ WKHP \\\n",
    "                       + AGE_MEN \\\n",
    "                       + AGE_WOMEN \\\n",
    "                       + C(SCHL2) \\\n",
    "                       + C(SEX)\", \n",
    "              data=df)\n",
    "res = mod.fit()\n",
    "print(res.summary())"
   ]
  },
  {
   "cell_type": "code",
   "execution_count": null,
   "metadata": {
    "collapsed": false
   },
   "outputs": [],
   "source": [
    "# we can get the same thing, with a slightly different specification\n",
    "# this tells us whether the AGEP and AGE_WOMEN coefficients are significantly different from each other\n",
    "\n",
    "mod = smf.ols(formula=\"WAGP \\\n",
    "                       ~ WKHP \\\n",
    "                       + AGEP \\\n",
    "                       + AGE_WOMEN \\\n",
    "                       + C(SCHL2) \\\n",
    "                       + C(SEX)\", \n",
    "              data=df)\n",
    "res = mod.fit()\n",
    "print(res.summary())"
   ]
  },
  {
   "cell_type": "markdown",
   "metadata": {},
   "source": [
    "### Homework\n",
    "\n",
    "1. Calculate the value of a Civil Engineering degree and a degree in Transportation Sciences And Technologies, relative to a college degree in general. \n",
    "\n",
    "2. Calculate the value of working in Architectural, Engineering, And Related Services versus wroking in transportation (anything starting in TRN).  \n",
    "\n",
    "3. Calculate the wage difference between male and female civil engineers\n",
    "\n",
    "4. Use these data to determine what you should expect your starting salary to be for a full-time job in your career of choice after you graduate.  These may be a useful observation point for negotiations.  Who can come up with the highest (defensible) value?  What other data could you use to make your case? "
   ]
  },
  {
   "cell_type": "code",
   "execution_count": null,
   "metadata": {
    "collapsed": true
   },
   "outputs": [],
   "source": []
  },
  {
   "cell_type": "markdown",
   "metadata": {},
   "source": [
    "### Bonus\n",
    "\n",
    "Win your bracket next year with a data-driven March Madness!\n",
    "\n",
    "https://canvas.harvard.edu/courses/12656/files/2822157/download?verifier...1"
   ]
  },
  {
   "cell_type": "code",
   "execution_count": null,
   "metadata": {
    "collapsed": true
   },
   "outputs": [],
   "source": []
  }
 ],
 "metadata": {
  "anaconda-cloud": {},
  "kernelspec": {
   "display_name": "Python [conda root]",
   "language": "python",
   "name": "conda-root-py"
  },
  "language_info": {
   "codemirror_mode": {
    "name": "ipython",
    "version": 3
   },
   "file_extension": ".py",
   "mimetype": "text/x-python",
   "name": "python",
   "nbconvert_exporter": "python",
   "pygments_lexer": "ipython3",
   "version": "3.5.2"
  }
 },
 "nbformat": 4,
 "nbformat_minor": 1
}
