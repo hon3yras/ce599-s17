{
 "cells": [
  {
   "cell_type": "markdown",
   "metadata": {},
   "source": [
    "# Working with Data APIs\n",
    "\n",
    "**Sam Maurer // maurer@berkeley.edu // Oct. 3, 2016**\n",
    "\n",
    "This notebook provides a demonstration of data-access APIs that operate over the web. See README.md for setup instructions.\n",
    "\n",
    "In Part 1, we'll load and parse results from an API feed of earthquake data.  \n",
    "In Part 2, we'll add query parameters to the workflow, using the Google Maps Geolocation API as an example.  \n",
    "In Part 3, we'll use an authenticated API to query public Twitter posts. "
   ]
  },
  {
   "cell_type": "markdown",
   "metadata": {},
   "source": [
    "# Part 1: Reading from an automated data feed\n",
    "\n",
    "### USGS real-time earthquake feeds\n",
    "\n",
    "This is an API for near-real-time data about earthquakes. Data is provided in JSON format over the web. No authentication is needed, and there's no way to customize the output. Instead, the API has a separate endpoint for each permutation of the data that users might want.\n",
    "\n",
    "**API documentation:**  \n",
    "http://earthquake.usgs.gov/earthquakes/feed/v1.0/geojson.php\n",
    "\n",
    "**Sample API endpoint, for magnitude 4.5+ earthquakes in past day:**  \n",
    "http://earthquake.usgs.gov/earthquakes/feed/v1.0/summary/4.5_day.geojson  \n"
   ]
  },
  {
   "cell_type": "code",
   "execution_count": 8,
   "metadata": {
    "collapsed": true
   },
   "outputs": [],
   "source": [
    "%matplotlib inline\n",
    "\n",
    "import pandas as pd\n",
    "\n",
    "import json    # library for working with JSON-formatted text strings\n",
    "import requests  # library for accessing content from web URLs\n",
    "\n",
    "import pprint  # library for making Python data structures readable\n",
    "pp = pprint.PrettyPrinter()"
   ]
  },
  {
   "cell_type": "code",
   "execution_count": 9,
   "metadata": {
    "collapsed": false
   },
   "outputs": [
    {
     "name": "stdout",
     "output_type": "stream",
     "text": [
      "<class 'str'>\n"
     ]
    }
   ],
   "source": [
    "# download data on magnitude 2.5+ quakes from the past week\n",
    "\n",
    "endpoint_url = \"http://earthquake.usgs.gov/earthquakes/feed/v1.0/summary/2.5_week.geojson\"\n",
    "response = requests.get(endpoint_url)\n",
    "results = response.text\n",
    "\n",
    "# what is the data type of the results?\n",
    "print(type(results))"
   ]
  },
  {
   "cell_type": "code",
   "execution_count": 10,
   "metadata": {
    "collapsed": false
   },
   "outputs": [
    {
     "name": "stdout",
     "output_type": "stream",
     "text": [
      "{\"type\":\"FeatureCollection\",\"metadata\":{\"generated\":1486062070000,\"url\":\"http://earthquake.usgs.gov/earthquakes/feed/v1.0/summary/2.5_week.geojson\",\"title\":\"USGS Magnitude 2.5+ Earthquakes, Past Week\",\"status\":200,\"api\":\"1.5.4\",\"count\":224},\"features\":[{\"type\":\"Feature\",\"properties\":{\"mag\":2.5,\"place\":\"39km WSW of Nikiski, Alaska\",\"time\":1486056339547,\"updated\":1486057096264,\"tz\":-540,\"url\":\"http://earthquake.usgs.gov/earthquakes/eventpage/ak15191847\",\"detail\":\"http://earthquake.usgs.gov/earthqu\n"
     ]
    }
   ],
   "source": [
    "# print the first 500 characters to see a sample of the data\n",
    "\n",
    "print(results[:500])"
   ]
  },
  {
   "cell_type": "code",
   "execution_count": 11,
   "metadata": {
    "collapsed": false
   },
   "outputs": [
    {
     "name": "stdout",
     "output_type": "stream",
     "text": [
      "<class 'dict'>\n"
     ]
    }
   ],
   "source": [
    "# it looks like the results are a string with JSON-formatted data inside\n",
    "\n",
    "# parse the string into a Python dictionary\n",
    "data = json.loads(results)\n",
    "\n",
    "print(type(data))"
   ]
  },
  {
   "cell_type": "code",
   "execution_count": 12,
   "metadata": {
    "collapsed": false
   },
   "outputs": [
    {
     "name": "stdout",
     "output_type": "stream",
     "text": [
      "{'properties': {'nst': None, 'magType': 'ml', 'detail': 'http://earthquake.usgs.gov/earthquakes/feed/v1.0/detail/ak15191847.geojson', 'url': 'http://earthquake.usgs.gov/earthquakes/eventpage/ak15191847', 'mmi': None, 'cdi': None, 'ids': ',ak15191847,', 'alert': None, 'dmin': None, 'updated': 1486057096264, 'sources': ',ak,', 'time': 1486056339547, 'tz': -540, 'code': '15191847', 'place': '39km WSW of Nikiski, Alaska', 'title': 'M 2.5 - 39km WSW of Nikiski, Alaska', 'gap': None, 'types': ',geoserve,origin,', 'type': 'earthquake', 'felt': None, 'tsunami': 0, 'rms': 0.64, 'net': 'ak', 'sig': 96, 'status': 'automatic', 'mag': 2.5}, 'id': 'ak15191847', 'type': 'Feature', 'geometry': {'type': 'Point', 'coordinates': [-151.993, 60.6067, 87.5]}}\n"
     ]
    }
   ],
   "source": [
    "# print the most recent quake\n",
    "\n",
    "quakes = data['features']\n",
    "print(quakes[0])"
   ]
  },
  {
   "cell_type": "code",
   "execution_count": 13,
   "metadata": {
    "collapsed": false,
    "scrolled": true
   },
   "outputs": [
    {
     "name": "stdout",
     "output_type": "stream",
     "text": [
      "{'coordinates': [162.008, -11.01, 46.51], 'type': 'Point'}\n",
      "{'alert': None,\n",
      " 'cdi': None,\n",
      " 'code': '20008fsp',\n",
      " 'detail': 'http://earthquake.usgs.gov/earthquakes/feed/v1.0/detail/us20008fsp.geojson',\n",
      " 'dmin': 2.559,\n",
      " 'felt': None,\n",
      " 'gap': 129,\n",
      " 'ids': ',us20008fsp,',\n",
      " 'mag': 4.6,\n",
      " 'magType': 'mb',\n",
      " 'mmi': None,\n",
      " 'net': 'us',\n",
      " 'nst': None,\n",
      " 'place': '62km S of Kirakira, Solomon Islands',\n",
      " 'rms': 0.95,\n",
      " 'sig': 326,\n",
      " 'sources': ',us,',\n",
      " 'status': 'reviewed',\n",
      " 'time': 1485965814290,\n",
      " 'title': 'M 4.6 - 62km S of Kirakira, Solomon Islands',\n",
      " 'tsunami': 0,\n",
      " 'type': 'earthquake',\n",
      " 'types': ',geoserve,origin,phase-data,',\n",
      " 'tz': 660,\n",
      " 'updated': 1486009752040,\n",
      " 'url': 'http://earthquake.usgs.gov/earthquakes/eventpage/us20008fsp'}\n"
     ]
    }
   ],
   "source": [
    "# print it more clearly\n",
    "\n",
    "pp.pprint(quakes[32]['geometry'])\n",
    "pp.pprint(quakes[32]['properties'])"
   ]
  },
  {
   "cell_type": "code",
   "execution_count": 14,
   "metadata": {
    "collapsed": false
   },
   "outputs": [
    {
     "name": "stdout",
     "output_type": "stream",
     "text": [
      "M 2.5 - 39km WSW of Nikiski, Alaska\n",
      "M 2.5 - 62km W of Anchor Point, Alaska\n",
      "M 3.6 - 20km NNW of Loiza, Puerto Rico\n",
      "M 4.9 - Kermadec Islands region\n",
      "M 2.9 - 29km SW of Redoubt Volcano, Alaska\n",
      "M 4.4 - 36km E of Farkhar, Afghanistan\n",
      "M 3.2 - 74km N of Charlotte Amalie, U.S. Virgin Islands\n",
      "M 3.9 - 85km ENE of Chirikof Island, Alaska\n",
      "M 4.9 - 183km NNE of Banjar Sidayu, Indonesia\n",
      "M 4.8 - 55km NNW of Agrihan, Northern Mariana Islands\n",
      "M 2.9 - 20km W of Perry, Oklahoma\n",
      "M 4.4 - 200km SW of L'Esperance Rock, New Zealand\n",
      "M 4.7 - 174km WSW of Kuripan, Indonesia\n",
      "M 5.2 - 47km E of Opotiki, New Zealand\n",
      "M 4.0 - 14km SSE of Chancay, Peru\n",
      "M 3.1 - 95km W of Willow, Alaska\n",
      "M 2.8 - 22km NNW of Fritz Creek, Alaska\n",
      "M 3.3 - 20km W of Perry, Oklahoma\n",
      "M 4.8 - 20km ESE of Petatlan, Mexico\n",
      "M 4.5 - 33km E of Junlian, China\n",
      "M 5.3 - 264km NNE of Fais, Micronesia\n",
      "M 4.7 - 135km SSW of Hihifo, Tonga\n",
      "M 3.6 - 4km NE of Aljubarrota, Portugal\n",
      "M 4.5 - 132km N of Lae, Papua New Guinea\n",
      "M 4.4 - 130km WSW of Kota Ternate, Indonesia\n",
      "M 2.8 - 7km NNW of Friday Harbor, Washington\n",
      "M 2.8 - 64km NW of Kalaoa, Hawaii\n",
      "M 4.3 - 60km N of Lae, Papua New Guinea\n",
      "M 2.9 - 117km WNW of Gustavus, Alaska\n",
      "M 4.9 - 44km E of Naze, Japan\n",
      "M 4.1 - 5km ENE of Sorong, Indonesia\n",
      "M 4.7 - 107km SSW of Baubau, Indonesia\n",
      "M 4.6 - 62km S of Kirakira, Solomon Islands\n",
      "M 4.4 - 299km E of Vostok, Russia\n",
      "M 4.5 - 168km W of Pangai, Tonga\n",
      "M 3.9 - 9km NW of Murray Bridge, Australia\n",
      "M 2.6 - 6km SW of Volcano, Hawaii\n",
      "M 3.3 - 79km SW of Anchor Point, Alaska\n",
      "M 4.6 - 52km SSW of Tinyahuarco, Peru\n",
      "M 4.4 - 37km W of Arauco, Chile\n",
      "M 2.9 - 110km NNE of Chignik Lake, Alaska\n",
      "M 4.6 - 20km WNW of Atuncolla, Peru\n",
      "M 4.9 - 15km ENE of Kaikoura, New Zealand\n",
      "M 5.1 - 141km NNW of Zhadong, China\n",
      "M 2.7 - 110km NNE of Chignik Lake, Alaska\n",
      "M 3.7 - 65km NW of Kalaoa, Hawaii\n",
      "M 2.8 - 96km NNW of Nikiski, Alaska\n",
      "M 2.8 - 31km SW of Hawthorne, Nevada\n",
      "M 2.6 - 63km W of Kailua-Kona, Hawaii\n",
      "M 2.7 - 6km SW of Volcano, Hawaii\n",
      "M 2.6 - 38km NE of Larsen Bay, Alaska\n",
      "M 3.5 - 87km N of Road Town, British Virgin Islands\n",
      "M 4.7 - 11km W of San Andres, Colombia\n",
      "M 4.8 - 166km SE of Sucua, Ecuador\n",
      "M 4.7 - 102km NNW of Nago, Japan\n",
      "M 2.7 - 12km NNE of Hatillo, Puerto Rico\n",
      "M 3.9 - 81km SW of Puerto Quellon, Chile\n",
      "M 2.6 - 50km N of Tierras Nuevas Poniente, Puerto Rico\n",
      "M 3.0 - 23km ENE of Mooreland, Oklahoma\n",
      "M 4.4 - 43km SSW of Ozernovskiy, Russia\n",
      "M 3.2 - 39km SSE of Manley Hot Springs, Alaska\n",
      "M 4.6 - 93km E of Ishinomaki, Japan\n",
      "M 4.3 - 27km SSW of Khorugh, Tajikistan\n",
      "M 5.3 - 172km N of Dili, East Timor\n",
      "M 5.5 - 25km S of Propicia, Ecuador\n",
      "M 4.5 - 114km NW of San Jose de Jachal, Argentina\n",
      "M 4.6 - 121km SSW of Itoman, Japan\n",
      "M 4.8 - Southwest Indian Ridge\n",
      "M 2.9 - 2km WSW of South Hutchinson, Kansas\n",
      "M 5.2 - 92km NNW of Talkeetna, Alaska\n",
      "M 4.5 - 262km SE of Lambasa, Fiji\n",
      "M 3.1 - 58km NNW of San Antonio, Puerto Rico\n",
      "M 3.2 - 34km NE of Road Town, British Virgin Islands\n",
      "M 2.7 - 21km SSW of Puebla, B.C., MX\n",
      "M 3.3 - 6km S of Ridgemark, California\n",
      "M 2.5 - 37km ENE of Fritz Creek, Alaska\n",
      "M 2.8 - 8km N of Mojave, CA\n",
      "M 3.0 - 7km S of Emajagua, Puerto Rico\n",
      "M 4.0 - 87km SSW of Port Hardy, Canada\n",
      "M 3.0 - 127km NNW of Nikiski, Alaska\n",
      "M 3.5 - 110km W of Willow, Alaska\n",
      "M 5.2 - Northern Mid-Atlantic Ridge\n",
      "M 3.1 - 52km E of Sutton-Alpine, Alaska\n",
      "M 5.9 - 33km NNE of Port-Olry, Vanuatu\n",
      "M 3.3 - 55km NNE of Road Town, British Virgin Islands\n",
      "M 3.2 - 57km SE of Boca de Yuma, Dominican Republic\n",
      "M 2.6 - 10km NE of Indio, CA\n",
      "M 2.8 - 0km ENE of Maricao, Puerto Rico\n",
      "M 4.5 - 137km WSW of Banda Aceh, Indonesia\n",
      "M 2.5 - 12km ESE of Hennessey, Oklahoma\n",
      "M 4.5 - Indian Ocean Triple Junction\n",
      "M 3.0 - 10km S of Emajagua, Puerto Rico\n",
      "M 3.3 - 5km S of New Castle, Colorado\n",
      "M 4.8 - Western Indian-Antarctic Ridge\n",
      "M 2.8 - 4km S of Medford, Oklahoma\n",
      "M 4.7 - West Chile Rise\n",
      "M 4.7 - 76km SW of San Juan del Sur, Nicaragua\n",
      "M 2.6 - 88km ESE of Maneadero, B.C., MX\n",
      "M 3.4 - 120km NNW of Charlotte Amalie, U.S. Virgin Islands\n",
      "M 5.1 - 136km SSE of Lata, Solomon Islands\n",
      "M 4.9 - 72km NNW of Wanaka, New Zealand\n",
      "M 5.2 - Northern Mid-Atlantic Ridge\n",
      "M 4.7 - 34km SW of Muara Siberut, Indonesia\n",
      "M 2.9 - 62km WSW of Redoubt Volcano, Alaska\n",
      "M 4.6 - 82km W of Santo Tomas, Peru\n",
      "M 2.5 - 12km SSE of Cushing, Oklahoma\n",
      "M 3.1 - 9km NNW of Friday Harbor, Washington\n",
      "M 3.0 - 29km SSW of Charlotte Amalie, U.S. Virgin Islands\n",
      "M 2.5 - 11km W of Chaffee, Missouri\n",
      "M 2.8 - 22km WSW of Medford, Oklahoma\n",
      "M 5.0 - 137km SSW of Kokopo, Papua New Guinea\n",
      "M 2.8 - 16km WNW of Blackwell, Oklahoma\n",
      "M 2.6 - 15km WNW of Blackwell, Oklahoma\n",
      "M 4.2 - 14km SE of Naranjal, Ecuador\n",
      "M 5.1 - 6km ENE of Libas, Philippines\n",
      "M 2.8 - 9km NNW of Friday Harbor, Washington\n",
      "M 4.6 - Kuril Islands\n",
      "M 2.5 - 132km SSE of Coldfoot, Alaska\n",
      "M 4.8 - 55km NNW of Agrihan, Northern Mariana Islands\n",
      "M 2.6 - 9km SSW of Cherokee, Oklahoma\n",
      "M 2.5 - 74km WSW of Cantwell, Alaska\n",
      "M 5.4 - Drake Passage\n",
      "M 5.8 - Southwest Indian Ridge\n",
      "M 4.6 - 18km SSE of San Jose de Jachal, Argentina\n",
      "M 5.7 - 100km SSE of Raoul Island, New Zealand\n",
      "M 5.0 - 77km SE of Inarajan Village, Guam\n",
      "M 4.5 - 56km S of Koroni, Greece\n",
      "M 4.7 - 110km SSE of Krajan Tambakrejo, Indonesia\n",
      "M 2.9 - 84km E of Maneadero, B.C., MX\n",
      "M 4.7 - 66km NNW of Bela, Pakistan\n",
      "M 4.4 - 150km WNW of Tobelo, Indonesia\n",
      "M 4.9 - Western Indian-Antarctic Ridge\n",
      "M 3.3 - 99km NNW of Chirikof Island, Alaska\n",
      "M 2.5 - 6km SSW of Alberto Oviedo Mota, B.C., MX\n",
      "M 2.8 - 54km WNW of Talkeetna, Alaska\n",
      "M 2.9 - 4km NW of The Geysers, California\n",
      "M 3.7 - 77km NE of Santa Barbara de Samana, Dominican Republic\n",
      "M 2.8 - 32km SSW of Cohoe, Alaska\n",
      "M 4.2 - 77km N of Nebe, Indonesia\n",
      "M 3.2 - 84km NE of Miches, Dominican Republic\n",
      "M 4.5 - South of the Fiji Islands\n",
      "M 5.0 - 20km SSE of Taron, Papua New Guinea\n",
      "M 5.7 - 109km NE of Hihifo, Tonga\n",
      "M 2.5 - 85km E of Cantwell, Alaska\n",
      "M 2.9 - 17km ENE of Willow Creek, California\n",
      "M 2.9 - 84km SW of Homer, Alaska\n",
      "M 4.6 - 72km ESE of Hachinohe, Japan\n",
      "M 4.6 - 240km N of Siglufjordur, Iceland\n",
      "M 2.8 - 53km N of Loiza, Puerto Rico\n",
      "M 2.9 - 14km N of Cabazon, CA\n",
      "M 4.5 - 12km NNW of Bellavista, Colombia\n",
      "M 4.9 - 24km WNW of Shizukuishi, Japan\n",
      "M 4.5 - 80km WSW of Diego de Almagro, Chile\n",
      "M 2.5 - 60km W of Anchorage, Alaska\n",
      "M 4.4 - 85km E of Karakul, Tajikistan\n",
      "M 2.7 - 10km NW of Puerto Real, Puerto Rico\n",
      "M 4.5 - 60km S of Paracas, Peru\n",
      "M 2.6 - 16km NW of Pawnee, Oklahoma\n",
      "M 2.7 - 67km NNW of Charlotte Amalie, U.S. Virgin Islands\n",
      "M 4.7 - 157km S of Krajan Tambakrejo, Indonesia\n",
      "M 5.3 - 139km SSW of Kokopo, Papua New Guinea\n",
      "M 3.1 - 81km SE of Boca de Yuma, Dominican Republic\n",
      "M 2.7 - 52km WSW of Larsen Bay, Alaska\n",
      "M 3.8 - 57km NNE of Punta Cana, Dominican Republic\n",
      "M 5.3 - 41km SW of Chimbote, Peru\n",
      "M 3.1 - 69km N of Tierras Nuevas Poniente, Puerto Rico\n",
      "M 4.5 - 81km WNW of Panguna, Papua New Guinea\n",
      "M 4.7 - 50km E of Taniwel, Indonesia\n",
      "M 5.2 - 151km SSW of Kokopo, Papua New Guinea\n",
      "M 2.6 - 13km S of Perry, Oklahoma\n",
      "M 4.2 - 230km W of Tual, Indonesia\n",
      "M 4.7 - 86km WNW of Arawa, Papua New Guinea\n",
      "M 3.0 - 58km NNW of Gustavus, Alaska\n",
      "M 5.0 - 30km NNE of Iquique, Chile\n",
      "M 4.7 - 63km S of Champerico, Guatemala\n",
      "M 4.1 - 51km W of Kuh Sefid, Iran\n",
      "M 2.6 - 75km SE of Chignik Lake, Alaska\n",
      "M 2.8 - 18km WNW of Waukomis, Oklahoma\n",
      "M 2.8 - 76km E of Old Iliamna, Alaska\n",
      "M 3.4 - 13km SE of Salvaleon de Higuey, Dominican Republic\n",
      "M 4.5 - 101km S of Coracora, Peru\n",
      "M 4.8 - 61km ESE of Afantou, Greece\n",
      "M 4.9 - 166km ENE of Neiafu, Tonga\n",
      "M 3.2 - 7km N of San Rafael del Yuma, Dominican Republic\n",
      "M 4.7 - Reykjanes Ridge\n",
      "M 4.6 - Reykjanes Ridge\n",
      "M 2.5 - 1km WNW of The Geysers, California\n",
      "M 3.9 - 1km N of The Geysers, California\n",
      "M 5.3 - 27km SSE of Xunchang, China\n",
      "M 3.6 - 65km SW of Redoubt Volcano, Alaska\n",
      "M 2.6 - 13km ESE of Esperanza, Puerto Rico\n",
      "M 4.6 - 5km NW of Kucove, Albania\n",
      "M 5.2 - 25km SSW of Ziway, Ethiopia\n",
      "M 2.8 - 172km SSE of Akutan, Alaska\n",
      "M 3.2 - 73km N of San Juan, Puerto Rico\n",
      "M 2.5 - 22km S of Little Sitkin Island, Alaska\n",
      "M 3.7 - 161km NNE of Road Town, British Virgin Islands\n",
      "M 2.5 - 27km SSW of Whittier, Alaska\n",
      "M 4.5 - 283km S of Ndoi Island, Fiji\n",
      "M 5.1 - 43km E of Calama, Chile\n",
      "M 3.1 - 107km NE of Chignik Lake, Alaska\n",
      "M 3.0 - 74km N of San Juan, Puerto Rico\n",
      "M 2.8 - 68km ESE of Adak, Alaska\n",
      "M 2.7 - 31km WSW of Homer, Alaska\n",
      "M 4.6 - 97km ESE of Bitung, Indonesia\n",
      "M 3.2 - 73km N of San Juan, Puerto Rico\n",
      "M 3.1 - 12km NE of Medford, Oklahoma\n",
      "M 2.6 - 66km S of Cantwell, Alaska\n",
      "M 2.6 - 95km WSW of Amatignak Island, Alaska\n",
      "M 3.1 - 26km E of Honaunau-Napoopoo, Hawaii\n",
      "M 3.2 - 76km N of Hatillo, Puerto Rico\n",
      "M 4.9 - 31km SW of Ashkasham, Afghanistan\n",
      "M 4.7 - 54km SW of Ovalle, Chile\n",
      "M 3.7 - 41km S of Boca de Yuma, Dominican Republic\n",
      "M 3.0 - 116km WSW of Ferndale, California\n",
      "M 2.6 - 38km SSE of Manley Hot Springs, Alaska\n",
      "M 2.7 - 3km S of Santa Clarita, CA\n",
      "M 2.7 - 32km SSE of Esperanza, Puerto Rico\n",
      "M 3.0 - 56km WSW of Haines, Alaska\n",
      "M 2.6 - 45km SE of Akutan, Alaska\n",
      "M 4.2 - 111km E of Iquique, Chile\n",
      "M 4.4 - 234km WNW of Saumlaki, Indonesia\n",
      "M 2.9 - 102km NNW of San Antonio, Puerto Rico\n",
      "M 3.4 - 19km E of Road Town, British Virgin Islands\n"
     ]
    }
   ],
   "source": [
    "# pull out the title from each earthquake listing\n",
    "\n",
    "for q in quakes:\n",
    "    print(q['properties']['title'])"
   ]
  },
  {
   "cell_type": "code",
   "execution_count": 11,
   "metadata": {
    "collapsed": false
   },
   "outputs": [
    {
     "name": "stdout",
     "output_type": "stream",
     "text": [
      "226\n"
     ]
    }
   ],
   "source": [
    "# pull out magnitudes and depths into a Pandas dataframe, using\n",
    "# a more compact Python syntax for iterating through lists\n",
    "\n",
    "d = {'magnitude': [q['properties']['mag'] for q in quakes],\n",
    "     'depth': [q['geometry']['coordinates'][2] for q in quakes]}\n",
    "\n",
    "df = pd.DataFrame.from_dict(d)\n",
    "\n",
    "# how many earthquakes were loaded into the dataframe?\n",
    "print(len(df))"
   ]
  },
  {
   "cell_type": "code",
   "execution_count": 15,
   "metadata": {
    "collapsed": false
   },
   "outputs": [
    {
     "name": "stdout",
     "output_type": "stream",
     "text": [
      "224\n"
     ]
    }
   ],
   "source": [
    "# pull out lats and longs into a Pandas dataframe, using\n",
    "# a more compact Python syntax for iterating through lists\n",
    "\n",
    "d = {'latitude': [q['geometry']['coordinates'][0] for q in quakes],\n",
    "     'longtiude': [q['geometry']['coordinates'][1] for q in quakes]}\n",
    "\n",
    "df = pd.DataFrame.from_dict(d)\n",
    "\n",
    "# how many earthquakes were loaded into the dataframe?\n",
    "print(len(df))"
   ]
  },
  {
   "cell_type": "code",
   "execution_count": 51,
   "metadata": {
    "collapsed": false
   },
   "outputs": [
    {
     "name": "stdout",
     "output_type": "stream",
     "text": [
      "   latitude  longtiude\n",
      "0 -151.9930    60.6067\n",
      "1 -152.9527    59.7842\n",
      "2  -65.9540    18.6070\n",
      "3 -175.9863   -27.0828\n",
      "4 -153.4994    60.1192\n"
     ]
    }
   ],
   "source": [
    "# print the first few lines of data\n",
    "\n",
    "print(df.head())"
   ]
  },
  {
   "cell_type": "code",
   "execution_count": 53,
   "metadata": {
    "collapsed": false
   },
   "outputs": [
    {
     "name": "stdout",
     "output_type": "stream",
     "text": [
      "         latitude   longtiude\n",
      "count  226.000000  226.000000\n",
      "mean   -41.172917   20.988776\n",
      "std    112.653000   30.116693\n",
      "min   -179.735500  -58.039100\n",
      "25%   -134.143775   -4.303675\n",
      "50%    -70.180000   19.436650\n",
      "75%     69.189500   40.318000\n",
      "max    179.615500   68.275800\n"
     ]
    }
   ],
   "source": [
    "# print some descriptive statistics\n",
    "\n",
    "print(df.describe())"
   ]
  },
  {
   "cell_type": "code",
   "execution_count": 17,
   "metadata": {
    "collapsed": false
   },
   "outputs": [
    {
     "data": {
      "text/plain": [
       "<matplotlib.axes._subplots.AxesSubplot at 0x24acc9eea90>"
      ]
     },
     "execution_count": 17,
     "metadata": {},
     "output_type": "execute_result"
    },
    {
     "data": {
      "image/png": "[encoded data removed]",
      "text/plain": [
       "<matplotlib.figure.Figure at 0x24acc9bc2b0>"
      ]
     },
     "metadata": {},
     "output_type": "display_data"
    }
   ],
   "source": [
    "# plot the depth vs. magnitude\n",
    "\n",
    "df.plot(x='latitude', y='longtiude', kind='scatter')"
   ]
  },
  {
   "cell_type": "code",
   "execution_count": 17,
   "metadata": {
    "collapsed": false
   },
   "outputs": [
    {
     "name": "stdout",
     "output_type": "stream",
     "text": [
      "file saved\n"
     ]
    }
   ],
   "source": [
    "# save the dataframe to disk\n",
    "\n",
    "df.to_csv('usgs_earthquake_data.csv')\n",
    "\n",
    "print('file saved')"
   ]
  },
  {
   "cell_type": "code",
   "execution_count": 18,
   "metadata": {
    "collapsed": false
   },
   "outputs": [
    {
     "name": "stdout",
     "output_type": "stream",
     "text": [
      "   depth  magnitude\n",
      "0   87.5        2.5\n",
      "1   97.6        2.5\n",
      "2   75.0        3.6\n",
      "3   10.0        4.9\n",
      "4  170.0        2.9\n"
     ]
    }
   ],
   "source": [
    "# read it back later\n",
    "\n",
    "new_df = pd.DataFrame.from_csv('usgs_earthquake_data.csv')\n",
    "\n",
    "print(new_df.head())"
   ]
  },
  {
   "cell_type": "code",
   "execution_count": null,
   "metadata": {
    "collapsed": true
   },
   "outputs": [],
   "source": []
  },
  {
   "cell_type": "code",
   "execution_count": null,
   "metadata": {
    "collapsed": true
   },
   "outputs": [],
   "source": []
  },
  {
   "cell_type": "code",
   "execution_count": null,
   "metadata": {
    "collapsed": true
   },
   "outputs": [],
   "source": []
  },
  {
   "cell_type": "markdown",
   "metadata": {},
   "source": [
    "# Part 2: Querying an API endpoint\n",
    "\n",
    "### Google Maps Geocoding API\n",
    "\n",
    "Google has lots of APIs that let you access its services through code instead of through GUI apps. This one from Google Maps lets you look up the latitude-longitude coordinates of street addresses.\n",
    "\n",
    "It works similarly to the earthquakes example, but with query parameters added to the URL endpoint!\n",
    "\n",
    "**API documentation:**  \n",
    "https://developers.google.com/maps/documentation/geocoding/intro\n",
    "\n",
    "**API endpoint:**  \n",
    "https://maps.googleapis.com/maps/api/geocode/json\n",
    "\n",
    "**API endpoint with query parameters:**  \n",
    "https://maps.googleapis.com/maps/api/geocode/json?address=Wurster+Hall"
   ]
  },
  {
   "cell_type": "code",
   "execution_count": 19,
   "metadata": {
    "collapsed": true
   },
   "outputs": [],
   "source": [
    "import json    # library for working with JSON-formatted text strings\n",
    "import requests  # library for accessing content from web URLs\n",
    "\n",
    "import pprint  # library for making Python data structures readable\n",
    "pp = pprint.PrettyPrinter()"
   ]
  },
  {
   "cell_type": "code",
   "execution_count": 22,
   "metadata": {
    "collapsed": false
   },
   "outputs": [
    {
     "name": "stdout",
     "output_type": "stream",
     "text": [
      "https://maps.googleapis.com/maps/api/geocode/json?address=uky+young+library\n"
     ]
    }
   ],
   "source": [
    "# we have to encode the search query so that it can be passed as a URL, \n",
    "# with spaces and other special characters removed\n",
    "\n",
    "endpoint = 'https://maps.googleapis.com/maps/api/geocode/json'\n",
    "\n",
    "params = {'address': 'uky young library'}\n",
    "\n",
    "url = requests.Request('GET', endpoint, params=params).prepare().url\n",
    "print(url)"
   ]
  },
  {
   "cell_type": "code",
   "execution_count": 23,
   "metadata": {
    "collapsed": false
   },
   "outputs": [
    {
     "name": "stdout",
     "output_type": "stream",
     "text": [
      "{'status': 'OK', 'results': [{'address_components': [{'short_name': '401', 'long_name': '401', 'types': ['street_number']}, {'short_name': 'Hilltop Ave', 'long_name': 'Hilltop Avenue', 'types': ['route']}, {'short_name': 'Lexington', 'long_name': 'Lexington', 'types': ['locality', 'political']}, {'short_name': 'Fayette County', 'long_name': 'Fayette County', 'types': ['administrative_area_level_2', 'political']}, {'short_name': 'KY', 'long_name': 'Kentucky', 'types': ['administrative_area_level_1', 'political']}, {'short_name': 'US', 'long_name': 'United States', 'types': ['country', 'political']}, {'short_name': '40506', 'long_name': '40506', 'types': ['postal_code']}, {'short_name': '0001', 'long_name': '0001', 'types': ['postal_code_suffix']}], 'types': ['establishment', 'library', 'point_of_interest'], 'place_id': 'ChIJ4TWVhLhEQogRoRWbSlkOZZY', 'geometry': {'viewport': {'northeast': {'lng': -84.50036891970849, 'lat': 38.0342210802915}, 'southwest': {'lng': -84.5030668802915, 'lat': 38.0315231197085}}, 'location_type': 'APPROXIMATE', 'location': {'lng': -84.5017179, 'lat': 38.0328721}}, 'formatted_address': '401 Hilltop Ave, Lexington, KY 40506, USA'}]}\n"
     ]
    }
   ],
   "source": [
    "# download and parse the results\n",
    "\n",
    "response = requests.get(url)\n",
    "results = response.text\n",
    "data = json.loads(results)\n",
    "\n",
    "print(data)"
   ]
  },
  {
   "cell_type": "code",
   "execution_count": 24,
   "metadata": {
    "collapsed": false
   },
   "outputs": [
    {
     "name": "stdout",
     "output_type": "stream",
     "text": [
      "{'results': [{'address_components': [{'long_name': '401',\n",
      "                                      'short_name': '401',\n",
      "                                      'types': ['street_number']},\n",
      "                                     {'long_name': 'Hilltop Avenue',\n",
      "                                      'short_name': 'Hilltop Ave',\n",
      "                                      'types': ['route']},\n",
      "                                     {'long_name': 'Lexington',\n",
      "                                      'short_name': 'Lexington',\n",
      "                                      'types': ['locality', 'political']},\n",
      "                                     {'long_name': 'Fayette County',\n",
      "                                      'short_name': 'Fayette County',\n",
      "                                      'types': ['administrative_area_level_2',\n",
      "                                                'political']},\n",
      "                                     {'long_name': 'Kentucky',\n",
      "                                      'short_name': 'KY',\n",
      "                                      'types': ['administrative_area_level_1',\n",
      "                                                'political']},\n",
      "                                     {'long_name': 'United States',\n",
      "                                      'short_name': 'US',\n",
      "                                      'types': ['country', 'political']},\n",
      "                                     {'long_name': '40506',\n",
      "                                      'short_name': '40506',\n",
      "                                      'types': ['postal_code']},\n",
      "                                     {'long_name': '0001',\n",
      "                                      'short_name': '0001',\n",
      "                                      'types': ['postal_code_suffix']}],\n",
      "              'formatted_address': '401 Hilltop Ave, Lexington, KY 40506, USA',\n",
      "              'geometry': {'location': {'lat': 38.0328721, 'lng': -84.5017179},\n",
      "                           'location_type': 'APPROXIMATE',\n",
      "                           'viewport': {'northeast': {'lat': 38.0342210802915,\n",
      "                                                      'lng': -84.50036891970849},\n",
      "                                        'southwest': {'lat': 38.0315231197085,\n",
      "                                                      'lng': -84.5030668802915}}},\n",
      "              'place_id': 'ChIJ4TWVhLhEQogRoRWbSlkOZZY',\n",
      "              'types': ['establishment', 'library', 'point_of_interest']}],\n",
      " 'status': 'OK'}\n"
     ]
    }
   ],
   "source": [
    "# print it more nicely\n",
    "\n",
    "pp.pprint(data)"
   ]
  },
  {
   "cell_type": "code",
   "execution_count": 26,
   "metadata": {
    "collapsed": false
   },
   "outputs": [
    {
     "name": "stdout",
     "output_type": "stream",
     "text": [
      "38.0328721 -84.5017179\n",
      "38.0342210802915 -84.50036891970849\n"
     ]
    }
   ],
   "source": [
    "# pull out the lat-lon coordinates\n",
    "\n",
    "for r in data['results']:\n",
    "    coords = r['geometry']['location']\n",
    "    print(coords['lat'], coords['lng'])\n",
    "    \n",
    "for r in data['results']:\n",
    "    coords = r['geometry']['viewport']['northeast']\n",
    "    print(coords['lat'], coords['lng']) #Get it?"
   ]
  },
  {
   "cell_type": "markdown",
   "metadata": {},
   "source": [
    "### Exercises\n",
    "\n",
    "1. Search for some other addresses or landmarks!\n",
    "2. Take a look at the [API documentation](https://developers.google.com/maps/documentation/geocoding/intro). What are the usage limits?"
   ]
  },
  {
   "cell_type": "code",
   "execution_count": null,
   "metadata": {
    "collapsed": true
   },
   "outputs": [],
   "source": []
  },
  {
   "cell_type": "code",
   "execution_count": null,
   "metadata": {
    "collapsed": true
   },
   "outputs": [],
   "source": []
  },
  {
   "cell_type": "code",
   "execution_count": null,
   "metadata": {
    "collapsed": true
   },
   "outputs": [],
   "source": []
  },
  {
   "cell_type": "markdown",
   "metadata": {},
   "source": [
    "# Part 3: Querying an API with authentication\n",
    "\n",
    "### Twitter REST APIs\n",
    "\n",
    "Twitter's APIs also operate over the web, but they require a back-and-forth authentication process at the beginning of each connection. It's easier to have a Python library handle this than to create the query URLs ourselves.\n",
    "\n",
    "The Twitter \"REST\" APIs perform stand-alone operations: you submit a query and receive results, like in earlier examples. ([REST](https://en.wikipedia.org/wiki/Representational_state_transfer) is a particular set of guidelines that many APIs follow.) Twitter also has a \"streaming\" API that continues sending results in real time until you disconnect.\n",
    "\n",
    "**API documentation:**  \n",
    "https://dev.twitter.com/rest/public  \n",
    "https://dev.twitter.com/overview/api/tweets\n",
    "\n",
    "**Documentation for the Python helper library**:  \n",
    "https://github.com/geduldig/TwitterAPI"
   ]
  },
  {
   "cell_type": "code",
   "execution_count": 27,
   "metadata": {
    "collapsed": false
   },
   "outputs": [],
   "source": [
    "from TwitterAPI import TwitterAPI\n",
    "\n",
    "import pprint  # library for making Python data structures readable\n",
    "pp = pprint.PrettyPrinter()"
   ]
  },
  {
   "cell_type": "code",
   "execution_count": 29,
   "metadata": {
    "collapsed": false
   },
   "outputs": [
    {
     "data": {
      "text/plain": [
       "'Bv0IwVzDqMTvWwrrDznsltjth'"
      ]
     },
     "execution_count": 29,
     "metadata": {},
     "output_type": "execute_result"
    }
   ],
   "source": [
    "# import API credentials from keys.py file in the\n",
    "# same directory as this notebook\n",
    "\n",
    "from keys import *\n",
    "consumer_key"
   ]
  },
  {
   "cell_type": "code",
   "execution_count": 31,
   "metadata": {
    "collapsed": false
   },
   "outputs": [
    {
     "name": "stdout",
     "output_type": "stream",
     "text": [
      "Connection is set up but not tested\n"
     ]
    }
   ],
   "source": [
    "# set up an API connection using credentials from the keys file\n",
    "\n",
    "api = TwitterAPI(consumer_key, consumer_secret, \n",
    "                 access_token, access_token_secret)\n",
    "\n",
    "print(\"Connection is set up but not tested\")"
   ]
  },
  {
   "cell_type": "markdown",
   "metadata": {},
   "source": [
    "### Making a simple data request"
   ]
  },
  {
   "cell_type": "code",
   "execution_count": 39,
   "metadata": {
    "collapsed": false
   },
   "outputs": [
    {
     "name": "stdout",
     "output_type": "stream",
     "text": [
      "Game day for @KentuckyWBB vs. No. 4/6 South Carolina. Got your blue picked out? #OneMemorial https://t.co/khkQZaV1JY\n",
      "Students, we need you there for @KentuckyWBB's Blue Out tomorrow night vs. South Carolina. It's going to be all kin… https://t.co/RbILYPueCH\n",
      ".@UKCoachStoops preaches \"don't flinch\" to his team constantly. Turns out his recruits got the message too.\n",
      "\n",
      "👇… https://t.co/Ig9obHjDs1\n",
      "You're going to love watching these guys, #BBN. https://t.co/9ydE17JjKl\n",
      "RT @UKFootball: Watch our Signing Day press conference live at 1 p.m. here --&gt; https://t.co/mfzuyGCXXT\n"
     ]
    }
   ],
   "source": [
    "# most recent tweet from @UKAthletics's timeline\n",
    "\n",
    "endpoint = 'statuses/user_timeline'\n",
    "params = {\n",
    "    'screen_name': 'ukathletics', \n",
    "    'count': 5\n",
    "}\n",
    "r = api.request(endpoint, params)\n",
    "\n",
    "for tweet in r.get_iterator():\n",
    "    print(tweet['text'])"
   ]
  },
  {
   "cell_type": "code",
   "execution_count": 40,
   "metadata": {
    "collapsed": false
   },
   "outputs": [
    {
     "name": "stdout",
     "output_type": "stream",
     "text": [
      "{'contributors': None,\n",
      " 'coordinates': None,\n",
      " 'created_at': 'Wed Feb 01 17:30:24 +0000 2017',\n",
      " 'entities': {'hashtags': [],\n",
      "              'symbols': [],\n",
      "              'urls': [{'display_url': 'bit.ly/2jwjwHa',\n",
      "                        'expanded_url': 'http://bit.ly/2jwjwHa',\n",
      "                        'indices': [82, 105],\n",
      "                        'url': 'https://t.co/mfzuyGCXXT'}],\n",
      "              'user_mentions': [{'id': 360022514,\n",
      "                                 'id_str': '360022514',\n",
      "                                 'indices': [3, 14],\n",
      "                                 'name': 'Kentucky Football',\n",
      "                                 'screen_name': 'UKFootball'}]},\n",
      " 'favorite_count': 0,\n",
      " 'favorited': False,\n",
      " 'geo': None,\n",
      " 'id': 826845165340000257,\n",
      " 'id_str': '826845165340000257',\n",
      " 'in_reply_to_screen_name': None,\n",
      " 'in_reply_to_status_id': None,\n",
      " 'in_reply_to_status_id_str': None,\n",
      " 'in_reply_to_user_id': None,\n",
      " 'in_reply_to_user_id_str': None,\n",
      " 'is_quote_status': False,\n",
      " 'lang': 'en',\n",
      " 'place': None,\n",
      " 'possibly_sensitive': False,\n",
      " 'retweet_count': 9,\n",
      " 'retweeted': False,\n",
      " 'retweeted_status': {'contributors': None,\n",
      "                      'coordinates': None,\n",
      "                      'created_at': 'Wed Feb 01 17:29:28 +0000 2017',\n",
      "                      'entities': {'hashtags': [],\n",
      "                                   'symbols': [],\n",
      "                                   'urls': [{'display_url': 'bit.ly/2jwjwHa',\n",
      "                                             'expanded_url': 'http://bit.ly/2jwjwHa',\n",
      "                                             'indices': [66, 89],\n",
      "                                             'url': 'https://t.co/mfzuyGCXXT'}],\n",
      "                                   'user_mentions': []},\n",
      "                      'favorite_count': 25,\n",
      "                      'favorited': False,\n",
      "                      'geo': None,\n",
      "                      'id': 826844930559574016,\n",
      "                      'id_str': '826844930559574016',\n",
      "                      'in_reply_to_screen_name': None,\n",
      "                      'in_reply_to_status_id': None,\n",
      "                      'in_reply_to_status_id_str': None,\n",
      "                      'in_reply_to_user_id': None,\n",
      "                      'in_reply_to_user_id_str': None,\n",
      "                      'is_quote_status': False,\n",
      "                      'lang': 'en',\n",
      "                      'place': None,\n",
      "                      'possibly_sensitive': False,\n",
      "                      'retweet_count': 9,\n",
      "                      'retweeted': False,\n",
      "                      'source': '<a '\n",
      "                                'href=\"https://about.twitter.com/products/tweetdeck\" '\n",
      "                                'rel=\"nofollow\">TweetDeck</a>',\n",
      "                      'text': 'Watch our Signing Day press conference live at '\n",
      "                              '1 p.m. here --&gt; https://t.co/mfzuyGCXXT',\n",
      "                      'truncated': False,\n",
      "                      'user': {'contributors_enabled': False,\n",
      "                               'created_at': 'Mon Aug 22 15:24:33 +0000 2011',\n",
      "                               'default_profile': False,\n",
      "                               'default_profile_image': False,\n",
      "                               'description': 'The official twitter account '\n",
      "                                              'for the University of Kentucky '\n",
      "                                              'football team. Buy season '\n",
      "                                              'tickets: '\n",
      "                                              'https://t.co/FDneVFeoUT',\n",
      "                               'entities': {'description': {'urls': [{'display_url': 'ukfootballtix.com',\n",
      "                                                                      'expanded_url': 'http://ukfootballtix.com',\n",
      "                                                                      'indices': [95,\n",
      "                                                                                  118],\n",
      "                                                                      'url': 'https://t.co/FDneVFeoUT'}]},\n",
      "                                            'url': {'urls': [{'display_url': 'ukathletics.com/sports/m-footb…',\n",
      "                                                              'expanded_url': 'http://www.ukathletics.com/sports/m-footbl/kty-m-footbl-body.html',\n",
      "                                                              'indices': [0,\n",
      "                                                                          23],\n",
      "                                                              'url': 'https://t.co/7Z1xiLqUYs'}]}},\n",
      "                               'favourites_count': 424,\n",
      "                               'follow_request_sent': False,\n",
      "                               'followers_count': 104484,\n",
      "                               'following': False,\n",
      "                               'friends_count': 758,\n",
      "                               'geo_enabled': True,\n",
      "                               'has_extended_profile': False,\n",
      "                               'id': 360022514,\n",
      "                               'id_str': '360022514',\n",
      "                               'is_translation_enabled': False,\n",
      "                               'is_translator': False,\n",
      "                               'lang': 'en',\n",
      "                               'listed_count': 645,\n",
      "                               'location': 'Lexington, Ky.',\n",
      "                               'name': 'Kentucky Football',\n",
      "                               'notifications': False,\n",
      "                               'profile_background_color': '000000',\n",
      "                               'profile_background_image_url': 'http://pbs.twimg.com/profile_background_images/378800000021084711/07f48725424e7964723d5b6807cdcd91.jpeg',\n",
      "                               'profile_background_image_url_https': 'https://pbs.twimg.com/profile_background_images/378800000021084711/07f48725424e7964723d5b6807cdcd91.jpeg',\n",
      "                               'profile_background_tile': False,\n",
      "                               'profile_banner_url': 'https://pbs.twimg.com/profile_banners/360022514/1477245629',\n",
      "                               'profile_image_url': 'http://pbs.twimg.com/profile_images/684090660786454530/7uvlufKZ_normal.jpg',\n",
      "                               'profile_image_url_https': 'https://pbs.twimg.com/profile_images/684090660786454530/7uvlufKZ_normal.jpg',\n",
      "                               'profile_link_color': '0084B4',\n",
      "                               'profile_sidebar_border_color': 'FFFFFF',\n",
      "                               'profile_sidebar_fill_color': 'DDEEF6',\n",
      "                               'profile_text_color': '333333',\n",
      "                               'profile_use_background_image': True,\n",
      "                               'protected': False,\n",
      "                               'screen_name': 'UKFootball',\n",
      "                               'statuses_count': 9039,\n",
      "                               'time_zone': None,\n",
      "                               'translator_type': 'none',\n",
      "                               'url': 'https://t.co/7Z1xiLqUYs',\n",
      "                               'utc_offset': None,\n",
      "                               'verified': True}},\n",
      " 'source': '<a href=\"http://twitter.com/download/iphone\" '\n",
      "           'rel=\"nofollow\">Twitter for iPhone</a>',\n",
      " 'text': 'RT @UKFootball: Watch our Signing Day press conference live at 1 '\n",
      "         'p.m. here --&gt; https://t.co/mfzuyGCXXT',\n",
      " 'truncated': False,\n",
      " 'user': {'contributors_enabled': False,\n",
      "          'created_at': 'Tue Mar 17 18:41:37 +0000 2009',\n",
      "          'default_profile': False,\n",
      "          'default_profile_image': False,\n",
      "          'description': 'The official Twitter account of the University of '\n",
      "                         'Kentucky Athletics Department. Facebook: Kentucky '\n",
      "                         'Wildcats; Instagram: ukathletics; Snapchat: '\n",
      "                         'uk_athletics',\n",
      "          'entities': {'description': {'urls': []},\n",
      "                       'url': {'urls': [{'display_url': 'ukathletics.com',\n",
      "                                         'expanded_url': 'http://www.ukathletics.com/',\n",
      "                                         'indices': [0, 23],\n",
      "                                         'url': 'https://t.co/Zqcn6uhNdp'}]}},\n",
      "          'favourites_count': 3219,\n",
      "          'follow_request_sent': False,\n",
      "          'followers_count': 262321,\n",
      "          'following': False,\n",
      "          'friends_count': 679,\n",
      "          'geo_enabled': True,\n",
      "          'has_extended_profile': False,\n",
      "          'id': 24929053,\n",
      "          'id_str': '24929053',\n",
      "          'is_translation_enabled': False,\n",
      "          'is_translator': False,\n",
      "          'lang': 'en',\n",
      "          'listed_count': 1329,\n",
      "          'location': 'Lexington, Ky.',\n",
      "          'name': 'Kentucky Athletics',\n",
      "          'notifications': False,\n",
      "          'profile_background_color': '000738',\n",
      "          'profile_background_image_url': 'http://pbs.twimg.com/profile_background_images/454256249635237888/rrHm7iuI.jpeg',\n",
      "          'profile_background_image_url_https': 'https://pbs.twimg.com/profile_background_images/454256249635237888/rrHm7iuI.jpeg',\n",
      "          'profile_background_tile': False,\n",
      "          'profile_banner_url': 'https://pbs.twimg.com/profile_banners/24929053/1485465359',\n",
      "          'profile_image_url': 'http://pbs.twimg.com/profile_images/663782111267131393/X8ILVRZX_normal.jpg',\n",
      "          'profile_image_url_https': 'https://pbs.twimg.com/profile_images/663782111267131393/X8ILVRZX_normal.jpg',\n",
      "          'profile_link_color': '084AE7',\n",
      "          'profile_sidebar_border_color': 'FFFFFF',\n",
      "          'profile_sidebar_fill_color': 'FFFFFF',\n",
      "          'profile_text_color': '787878',\n",
      "          'profile_use_background_image': True,\n",
      "          'protected': False,\n",
      "          'screen_name': 'UKAthletics',\n",
      "          'statuses_count': 36824,\n",
      "          'time_zone': 'Eastern Time (US & Canada)',\n",
      "          'translator_type': 'none',\n",
      "          'url': 'https://t.co/Zqcn6uhNdp',\n",
      "          'utc_offset': -18000,\n",
      "          'verified': True}}\n"
     ]
    }
   ],
   "source": [
    "# what other data is there?\n",
    "\n",
    "pp.pprint(tweet)"
   ]
  },
  {
   "cell_type": "markdown",
   "metadata": {},
   "source": [
    "### Other API endpoints allow different types of searches"
   ]
  },
  {
   "cell_type": "code",
   "execution_count": 41,
   "metadata": {
    "collapsed": false
   },
   "outputs": [
    {
     "name": "stdout",
     "output_type": "stream",
     "text": [
      "RT @Kentuckyhot: #BBN #Kentuckywildcats #weareuk #universityofkentucky #collegebasketball #collegegameday #collegegirls #body #kentuckygirl…\n",
      "\n",
      "RT @uk_fb_fanly: NSD 2017: Kentucky Wildcats Offensive Signee Bios #KentuckyWildcats  https://t.co/X7vBNANusk https://t.co/SalkHL94qC\n",
      "\n",
      "RT @Kentuckyhot: #BBN #Kentuckywildcats #weareuk #universityofkentucky #collegebasketball #collegegameday #collegegirls #body #kentuckygirl…\n",
      "\n",
      "RT @Kentuckyhot: #BBN #Kentuckywildcats #weareuk #universityofkentucky #collegebasketball #collegegameday #collegegirls #body #kentuckygirl…\n",
      "\n",
      "RT @Kentuckyhot: #BBN #Kentuckywildcats #weareuk #universityofkentucky #collegebasketball #collegegameday #collegegirls #body #kentuckygirl…\n",
      "\n"
     ]
    }
   ],
   "source": [
    "# search for public tweets about #bart\n",
    "\n",
    "endpoint = 'search/tweets'\n",
    "params = {\n",
    "    'q': '#kentuckywildcats', \n",
    "    'count': 5\n",
    "}\n",
    "r = api.request(endpoint, params)\n",
    "\n",
    "for tweet in r.get_iterator():\n",
    "    print(tweet['text'] + '\\n')"
   ]
  },
  {
   "cell_type": "code",
   "execution_count": 42,
   "metadata": {
    "collapsed": false
   },
   "outputs": [
    {
     "name": "stdout",
     "output_type": "stream",
     "text": [
      "RT @BinduBhusal1: @lokendrakumarN @Dhaniklal_Purbe होइन\n",
      "\n",
      "RT @AghaHayder: Ya Allah tamam momineen ko 13 RAJAB Ka'aba main dekhna naseeb ata farma❤\n",
      "\n",
      "RT @Sweetemotion_MT: anan Minho &amp; Taemin 1\n",
      "https://t.co/W8uvVtjVuo\n",
      "https://t.co/zzaLH4KRi8\n",
      "https://t.co/pd25qsa9Ta\n",
      "https://t.co/Fr9cI8v3XI…\n",
      "\n",
      "RT @AapKaGopalRai: पंजाब में झाड़ू की जीत देख बौखलाई कांग्रेस कैप्टन को-फर्जी लेटर ,फर्जी आरोप ,फर्जी वीडियो का आखरी सहारा। \"खिसियानी बिल्…\n",
      "\n",
      "RT @AzadOffice: हल्का गिद्दड़बाहा में .@SanjayAzadSln की जनसभा में मौजूद हज़ारों लोग https://t.co/JMY9qGWNKF\n",
      "\n"
     ]
    }
   ],
   "source": [
    "# search for public tweets in Hindi\n",
    "\n",
    "endpoint = 'search/tweets'\n",
    "params = {\n",
    "    'q': '*', \n",
    "    'lang': 'hi', \n",
    "    'count': 5\n",
    "} \n",
    "r = api.request(endpoint, params)\n",
    "\n",
    "for tweet in r.get_iterator():\n",
    "    print(tweet['text'] + '\\n')"
   ]
  },
  {
   "cell_type": "code",
   "execution_count": 43,
   "metadata": {
    "collapsed": false
   },
   "outputs": [
    {
     "name": "stdout",
     "output_type": "stream",
     "text": [
      "@ronedmondson @DBoggsOWL @yoshinofarmky @WKYT @Houseofgodinc lovehiggins4lex @alarmour14… https://t.co/857XIqcQCh\n",
      "\n",
      "When your campaign manager is famous. @yoshinofarmky… https://t.co/H57zi0lnNS\n",
      "\n",
      "@LexingtonForum breakfast: Heroin Epidemic in Our Own Backyard #sharethelex #owenby4lex⚖️ @WKYT… https://t.co/yVYy0LUEGc\n",
      "\n",
      "Unique late afternoon clouds over Lexington and University of Kentucky #striatedsky… https://t.co/zbxxtqyiae\n",
      "\n",
      "If you missed us last week were back at it again. Come join us tonight!! Fine Arts 6:15 room… https://t.co/Iih3RaZKq0\n",
      "\n"
     ]
    }
   ],
   "source": [
    "# search for public tweets geotagged near the UK campus\n",
    "\n",
    "endpoint = 'search/tweets'\n",
    "params = {\n",
    "    'q': '*', \n",
    "    'geocode': '38.034,-84.500,0.5km', \n",
    "    'count': 5\n",
    "} \n",
    "r = api.request(endpoint, params)\n",
    "\n",
    "for tweet in r.get_iterator():\n",
    "    print(tweet['text'] + '\\n')"
   ]
  },
  {
   "cell_type": "markdown",
   "metadata": {},
   "source": [
    "### Exercises\n",
    "\n",
    "1. Try some different search queries!\n",
    "2. Display some more data fields in addition to the tweet text"
   ]
  },
  {
   "cell_type": "code",
   "execution_count": 45,
   "metadata": {
    "collapsed": false
   },
   "outputs": [
    {
     "name": "stdout",
     "output_type": "stream",
     "text": [
      "RT @kamaalrkhan: See @KomalNahta! How much happy coz SRK called him for #Raees success Party. Lol! https://t.co/MTHbcpyNXP\n",
      "\n",
      "RT @rohitjswl01: #Raees Week 1 ends in Aprx 117cr  TERRIFIC\n",
      "\n",
      "Wknd 2 will be Aprx 20cr\n",
      "and 2nd Weekdays will be 11cr= 31cr Aprx Week 2\n",
      "\n",
      "117+…\n",
      "\n",
      "RT @rohitjswl01: To all @iamsrk fans... No matter what others say...  #Raees is a clean Hit in India...  and if U take Worldwide den its Su…\n",
      "\n",
      "RT @kamaalrkhan: See @KomalNahta! How much happy coz SRK called him for #Raees success Party. Lol! https://t.co/MTHbcpyNXP\n",
      "\n",
      "RT @haritbmehta: Happy morning, #Raees morning. Thank you @navgujaratsamay https://t.co/lat20y5S5J\n",
      "\n"
     ]
    }
   ],
   "source": [
    "endpoint = 'search/tweets'\n",
    "params = {\n",
    "    'q': '#Raees',  \n",
    "    'count': 5\n",
    "} \n",
    "r = api.request(endpoint, params)\n",
    "\n",
    "for tweet in r.get_iterator():\n",
    "    print(tweet['text'] + '\\n')"
   ]
  },
  {
   "cell_type": "code",
   "execution_count": null,
   "metadata": {
    "collapsed": true
   },
   "outputs": [],
   "source": []
  },
  {
   "cell_type": "code",
   "execution_count": null,
   "metadata": {
    "collapsed": true
   },
   "outputs": [],
   "source": []
  },
  {
   "cell_type": "markdown",
   "metadata": {},
   "source": [
    "### Bonus: Streaming live tweets in real time "
   ]
  },
  {
   "cell_type": "code",
   "execution_count": 46,
   "metadata": {
    "collapsed": false
   },
   "outputs": [
    {
     "name": "stdout",
     "output_type": "stream",
     "text": [
      "Thu Feb 02 18:37:48 +0000 2017\n",
      "Egypte, Egypte\n",
      "#مجلس_الشباب_المصري_يكرم_كنزه\n",
      "#مجلس_الشباب_المصري_يكرم_كنزه\n",
      "Good\n",
      "\n",
      "Thu Feb 02 18:37:48 +0000 2017\n",
      "Milford, CT, United States\n",
      "Cleared: Construction on #I95S SB at Exit 40 (WOODMONT RD #1)\n",
      "\n",
      "Thu Feb 02 18:37:48 +0000 2017\n",
      "Queens, NY, United States\n",
      "Reflection (at @FoodCellar &amp; Co. in Long Island City, NY) https://t.co/y81RVKHely\n",
      "\n",
      "Thu Feb 02 18:37:49 +0000 2017\n",
      "Cheektowaga, NY, United States\n",
      "Cleared: Construction on #I90NYSThruway EB from After Exit 50 (I-90) - Williamsville (I-290) to After Williamsville Toll Barrier\n",
      "\n",
      "Thu Feb 02 18:37:49 +0000 2017\n",
      "West Midlands, England, United Kingdom\n",
      "@FishmoreSpa just had the BEST @Elemis treatment ever at this beautiful spa. Looking forward to dinner in the restaurant @fishmorehall\n",
      "\n",
      "Thu Feb 02 18:37:49 +0000 2017\n",
      "Azerbaijan, Azerbaijan\n",
      "FLAME TOWERS - Baku, Azerbaijan 🇦🇿 🔥 \n",
      ".\n",
      ".\n",
      "#ViajandoComEdyMito… https://t.co/lhaobgpGC6\n",
      "\n",
      "Thu Feb 02 18:37:48 +0000 2017\n",
      "Johannesburg, South Africa, South Africa\n",
      "lol I get you https://t.co/yWQKVcZQo0\n",
      "\n",
      "Thu Feb 02 18:37:48 +0000 2017\n",
      "بريدة, المملكة العربية السعودية, المملكة العربية السعودية\n",
      "مميز .. وأتمنى من جالكا أن يمنحه الفرصة أكثر مع الحسن ندياي .. وبإذن الله هجوم #التعاون بخير https://t.co/7xW3F0bnra\n",
      "\n",
      "Thu Feb 02 18:37:49 +0000 2017\n",
      "Benavente, Portugal, Portugal\n",
      "Hj tou bue feliz!!\n",
      "\n",
      "Thu Feb 02 18:37:49 +0000 2017\n",
      "Clare, Ireland, Ireland\n",
      "@BarbaraBpiwetz @FuzzaMajumula @judesgray @GordonHarmony @StevieEvilCat @Notasquirrel Yez he can getz on widz hiz wurk nowz just in timez\n",
      "\n",
      "Thu Feb 02 18:37:48 +0000 2017\n",
      "Santiago de Surco, Peru, Peru\n",
      "Encontré este carné de estudiante de #derecho de @udelima en chifa de San Borja. @SuneduPeru. https://t.co/S8LBbPsIdW\n",
      "\n",
      "Thu Feb 02 18:37:49 +0000 2017\n",
      "Duque de Caxias, Brasil, Brasil\n",
      "só nos contos de fadas https://t.co/AB8iWRKUKm\n",
      "\n",
      "Thu Feb 02 18:37:49 +0000 2017\n",
      "Bebedouro, Brasil, Brasil\n",
      "Mas né? Dinheiro é dela, msm....\n",
      "\n",
      "Thu Feb 02 18:37:49 +0000 2017\n",
      "Antofagasta, Chile, Chile\n",
      "@TurkiAntof @chrischile 😂😂😂seguro...en 3....2...1...jajaja\n",
      "\n",
      "Thu Feb 02 18:37:49 +0000 2017\n",
      "Garden City, SC, United States\n",
      "Small waves matter @ Garden City, South Carolina https://t.co/Ud5Ug3R17r\n",
      "\n",
      "Thu Feb 02 18:37:49 +0000 2017\n",
      "Pearland, TX, United States\n",
      "New listing coming today in shadow creek ranch, Pearland! Gorgeous… https://t.co/1no3gvMf1A\n",
      "\n",
      "Thu Feb 02 18:37:49 +0000 2017\n",
      "Río Negro, Argentina, Argentina\n",
      "Que aburrido que estoyyyyy\n",
      "\n",
      "Thu Feb 02 18:37:48 +0000 2017\n",
      "McLean, VA, United States\n",
      "James Joyce famous writer&amp;poet bday 2day.1934 US Court Appeals upheld lower court ruling striking down govt attempt… https://t.co/3VRTbL8QPr\n",
      "\n",
      "Thu Feb 02 18:37:49 +0000 2017\n",
      "Mississippi, USA, United States\n",
      "SUPERBOWL SUNDAY at Kowboy's 43 in Canton, MS! KOWBOY'S KRAWDADDIES; All You Can Eat; $20!… https://t.co/EFcVkayGR7\n",
      "\n",
      "Thu Feb 02 18:37:49 +0000 2017\n",
      "Ecatepec de Morelos, México, Mexico\n",
      "Felicidades mi Princesa hermosa @ Colegio Humanista Mexicano https://t.co/Jg7GAF1qvA\n",
      "\n",
      "Thu Feb 02 18:37:49 +0000 2017\n",
      "Ελλάς, Ελλάς\n",
      "Janem guzel Suhanim!!!\n",
      "\n",
      "Thu Feb 02 18:37:49 +0000 2017\n",
      "Brasília, Brasil, Brasil\n",
      "vai lá filhão, tenta a sorte, mas tenta pra ser feliz\n",
      "\n"
     ]
    }
   ],
   "source": [
    "# Twitter limits simultaneous connections to the streaming API,\n",
    "# so this part may not work using the demo API keys during class\n",
    "\n",
    "endpoint = 'statuses/filter'\n",
    "params = {'locations': '-180,-90,180,90'}\n",
    "r = api.request(endpoint, params)\n",
    "LIMIT = 20\n",
    "\n",
    "# 'enumerate' lets us count tweets as we receive them\n",
    "\n",
    "for i, tweet in enumerate(r.get_iterator()):\n",
    "    print(tweet['created_at'])\n",
    "    print(tweet['place']['full_name'] + ', ' + tweet['place']['country'])\n",
    "    print(tweet['text'] + '\\n')\n",
    "    if (i > LIMIT): break\n",
    "\n",
    "# close the streaming connection\n",
    "r.close()"
   ]
  },
  {
   "cell_type": "code",
   "execution_count": null,
   "metadata": {
    "collapsed": true
   },
   "outputs": [],
   "source": []
  },
  {
   "cell_type": "code",
   "execution_count": null,
   "metadata": {
    "collapsed": true
   },
   "outputs": [],
   "source": []
  },
  {
   "cell_type": "code",
   "execution_count": null,
   "metadata": {
    "collapsed": true
   },
   "outputs": [],
   "source": []
  },
  {
   "cell_type": "markdown",
   "metadata": {},
   "source": [
    "### Exercises for the remainder of class\n",
    "\n",
    "1. Make a scatter plot of the lat-lon coordinates of earthquakes.  \n",
    "   &nbsp;\n",
    "   \n",
    "2. Using the geocoding example as a starting point, try searching the Google Maps Directions API or Elevation API instead. Descriptions are in the [API documentation](https://developers.google.com/maps/documentation/geocoding/intro).  \n",
    "   &nbsp;\n",
    "   "
   ]
  },
  {
   "cell_type": "code",
   "execution_count": null,
   "metadata": {
    "collapsed": true
   },
   "outputs": [],
   "source": []
  },
  {
   "cell_type": "markdown",
   "metadata": {
    "collapsed": true
   },
   "source": [
    "### For next time...\n",
    "\n",
    "In the next class, you will try out another API that provides data you're interested in. You will be asked to try connecting to it using Python code, and performing some basic operations on the data.  To come prepared for next time, please explore some of the transportation-related APIs that may be valuable, and choose one that is of interest to you.\n",
    "\n",
    "Here are a a few to get you started. \n",
    "\n",
    "Public Transit\n",
    "https://www.programmableweb.com/news/how-smart-cities-are-using-apis-public-transport-apis/2014/05/22\n",
    "\n",
    "Long-Distance Travel\n",
    "http://www.olery.com/blog/the-best-travel-apis-discover-contribute/ \n",
    "\n",
    "Transportation\n",
    "https://www.programmableweb.com/category/transportation/api\n",
    "\n",
    "\n",
    "Start by reading the public transit page, because that provides a nice overview of the types of applications out there, and some of the issues in using them.  These lessons often apply to traffic and transportation more generally.  \n",
    "\n",
    "Keep in mind that there are a number of different organizations that provide APIs, with different motivations and quality of what is provided.  If it is a private company, what is their business model?  What is the underlying source of the data, and what might that imply about how representative it is of the real world?  There is a ton of stuff out there.  How do we go about sorting out what is useful to us and what is now.  Spend some time exploring these and thinking about these questions.  \n"
   ]
  },
  {
   "cell_type": "code",
   "execution_count": null,
   "metadata": {
    "collapsed": true
   },
   "outputs": [],
   "source": []
  },
  {
   "cell_type": "code",
   "execution_count": null,
   "metadata": {
    "collapsed": true
   },
   "outputs": [],
   "source": []
  }
 ],
 "metadata": {
  "anaconda-cloud": {},
  "kernelspec": {
   "display_name": "Python [default]",
   "language": "python",
   "name": "python3"
  },
  "language_info": {
   "codemirror_mode": {
    "name": "ipython",
    "version": 3
   },
   "file_extension": ".py",
   "mimetype": "text/x-python",
   "name": "python",
   "nbconvert_exporter": "python",
   "pygments_lexer": "ipython3",
   "version": "3.5.2"
  }
 },
 "nbformat": 4,
 "nbformat_minor": 0
}
